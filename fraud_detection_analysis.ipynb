
import pandas as pd
import numpy as np
from sklearn.model_selection import train_test_split
from sklearn.preprocessing import StandardScaler
from sklearn.ensemble import RandomForestClassifier
from sklearn.metrics import classification_report, roc_auc_score, roc_curve, confusion_matrix
from imblearn.over_sampling import SMOTE
import matplotlib.pyplot as plt

# Load dataset
data = pd.read_csv('fraud-detection.csv')

# Data preprocessing
# Drop irrelevant columns
data = data.drop(['nameOrig', 'nameDest'], axis=1)

# Encode 'type' feature
data = pd.get_dummies(data, columns=['type'], drop_first=True)

# Handle missing values in target
data = data.dropna(subset=['isFraud'])

# Define features and target
X = data.drop('isFraud', axis=1)
y = data['isFraud']

# Handle class imbalance using SMOTE
smote = SMOTE(sampling_strategy=0.5, random_state=42)  # 50% balance
X_resampled, y_resampled = smote.fit_resample(X, y)

# Split data
X_train, X_test, y_train, y_test = train_test_split(X_resampled, y_resampled, test_size=0.3, random_state=42)

# Feature scaling
scaler = StandardScaler()
X_train = scaler.fit_transform(X_train)
X_test = scaler.transform(X_test)

# Train Random Forest model
rf_model = RandomForestClassifier(n_estimators=10, random_state=42)
rf_model.fit(X_train, y_train)

# Predictions
y_pred = rf_model.predict(X_test)
y_pred_proba = rf_model.predict_proba(X_test)[:, 1]

# Evaluation
print("Classification Report:\n", classification_report(y_test, y_pred))
print("Confusion Matrix:\n", confusion_matrix(y_test, y_pred))
print("ROC AUC Score:", roc_auc_score(y_test, y_pred_proba))

# Plot ROC Curve
fpr, tpr, _ = roc_curve(y_test, y_pred_proba)
plt.figure()
plt.plot(fpr, tpr, label='Random Forest (AUC = %0.2f)' % roc_auc_score(y_test, y_pred_proba))
plt.plot([0, 1], [0, 1], 'k--')
plt.xlabel('False Positive Rate')
plt.ylabel('True Positive Rate')
plt.title('ROC Curve')
plt.legend(loc='lower right')
plt.show()

# Save predictions
results = pd.DataFrame({
    'Actual': y_test,
    'Predicted': y_pred,
    'Predicted_Probability': y_pred_proba
})
results.to_csv('predictions.csv', index=False)
print("Predictions saved to 'predictions.csv'")

# Save classification report
report = classification_report(y_test, y_pred, output_dict=True)
report_df = pd.DataFrame(report).transpose()
report_df.to_csv('classification_report.csv', index=True)
print("Classification report saved to 'classification_report.csv'")

# Save confusion matrix
conf_matrix = confusion_matrix(y_test, y_pred)
conf_matrix_df = pd.DataFrame(conf_matrix,
                              index=['Actual 0', 'Actual 1'],
                              columns=['Predicted 0', 'Predicted 1'])
conf_matrix_df.to_csv('confusion_matrix.csv')
print("Confusion matrix saved to 'confusion_matrix.csv'")

# Save ROC curve data
roc_df = pd.DataFrame({'False Positive Rate': fpr, 'True Positive Rate': tpr})
roc_df.to_csv('roc_curve.csv', index=False)
print("ROC curve data saved to 'roc_curve.csv'")